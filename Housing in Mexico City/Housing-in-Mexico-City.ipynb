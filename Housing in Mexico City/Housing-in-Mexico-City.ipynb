{
 "cells": [
  {
   "cell_type": "markdown",
   "id": "ae4915db-8035-4c92-b3c7-64a9053573d7",
   "metadata": {
    "deletable": false,
    "editable": false
   },
   "source": [
    "<font size=\"+3\"><strong>Predicting Apartment Prices in Mexico City </strong></font>"
   ]
  },
  {
   "cell_type": "markdown",
   "id": "b91a9fd3",
   "metadata": {},
   "source": []
  },
  {
   "cell_type": "markdown",
   "id": "99c6bc6c-50d9-4e5c-9289-a6ef21d43bfd",
   "metadata": {
    "deletable": false,
    "editable": false
   },
   "source": [
    "## Import"
   ]
  },
  {
   "cell_type": "code",
   "execution_count": null,
   "id": "61bd8e8e",
   "metadata": {
    "ExecuteTime": {
     "end_time": "2023-04-17T00:12:38.115604Z",
     "start_time": "2023-04-17T00:12:36.810374Z"
    }
   },
   "outputs": [],
   "source": [
    "# Import libraries here\n",
    "from glob import glob\n",
    "import pandas as pd\n",
    "import matplotlib.pyplot as plt\n",
    "import plotly.express as px\n",
    "from category_encoders import OneHotEncoder\n",
    "from sklearn.impute import SimpleImputer\n",
    "from sklearn.linear_model import LinearRegression, Ridge\n",
    "from sklearn.metrics import mean_absolute_error\n",
    "from sklearn.pipeline import make_pipeline"
   ]
  },
  {
   "cell_type": "markdown",
   "id": "6171eb25",
   "metadata": {},
   "source": [
    "# Prepare Data"
   ]
  },
  {
   "cell_type": "markdown",
   "id": "3b3dccdb-08cc-4e5b-bd8a-509114410864",
   "metadata": {
    "deletable": false,
    "editable": false
   },
   "source": [
    "**1:** Write a `wrangle` function that takes the name of a CSV file as input and returns a DataFrame. The function should do the following steps:\n",
    "\n",
    "1. Subset the data in the CSV file and return only apartments in Mexico City (`\"Distrito Federal\"`) that cost less than \\$100,000.\n",
    "2. Remove outliers by trimming the bottom and top 10\\% of properties in terms of `\"surface_covered_in_m2\"`.\n",
    "3. Create separate `\"lat\"` and `\"lon\"` columns.\n",
    "4. Mexico City is divided into [15 boroughs](https://en.wikipedia.org/wiki/Boroughs_of_Mexico_City). Create a `\"borough\"` feature from the `\"place_with_parent_names\"` column.\n",
    "5. Drop columns that are more than 50\\% null values.\n",
    "6. Drop columns containing low- or high-cardinality categorical values. \n",
    "7. Drop any columns that would constitute leakage for the target `\"price_aprox_usd\"`.\n",
    "8. Drop any columns that would create issues of multicollinearity."
   ]
  },
  {
   "cell_type": "code",
   "execution_count": null,
   "id": "1281a99b-8791-4efe-80cf-46e64714ad4e",
   "metadata": {
    "ExecuteTime": {
     "end_time": "2023-04-17T00:12:38.122913Z",
     "start_time": "2023-04-17T00:12:38.121788Z"
    },
    "deletable": false
   },
   "outputs": [],
   "source": [
    "# Build your `wrangle` function\n",
    "def wrangle(path):\n",
    "    df = pd.read_csv(path)\n",
    "    \n",
    "    # Subset data: Apartments in \"Capital Federal\", less than 400,000\n",
    "    mask_ba = df[\"place_with_parent_names\"].str.contains(\"Distrito Federal\")\n",
    "    mask_apt = df[\"property_type\"] == \"apartment\"\n",
    "    mask_price = df[\"price_aprox_usd\"] < 100_000\n",
    "    df = df[mask_ba & mask_apt & mask_price]\n",
    "\n",
    "    # Subset data: Remove outliers for \"surface_covered_in_m2\"\n",
    "    low, high = df[\"surface_covered_in_m2\"].quantile([0.1, 0.9])\n",
    "    mask_area = df[\"surface_covered_in_m2\"].between(low, high)\n",
    "    df = df[mask_area]\n",
    "    \n",
    "    df[['lat', 'lon']] = df['lat-lon'].str.split(',', expand=True).astype('float')\n",
    "    df.drop('lat-lon', axis=1, inplace=True)\n",
    "    \n",
    "    df['borough'] = df['place_with_parent_names'].str.split('|', expand=True)[1]\n",
    "    df.drop(columns=\"place_with_parent_names\", inplace=True)\n",
    "\n",
    "    nulls_count_mask = df.count() < len(df) / 2\n",
    "    nulls_count_cols = nulls_count_mask[nulls_count_mask].index\n",
    "    df.drop(nulls_count_cols, axis=1, inplace=True)\n",
    "    \n",
    "    cardinality_mask = (df.select_dtypes(include=\"object\").nunique() < 0.005*len(df)) | (df.select_dtypes(include=\"object\").nunique() > 0.95*len(df))\n",
    "    low_high_cardinality_cols = cardinality_mask[cardinality_mask].index\n",
    "    df.drop(low_high_cardinality_cols, axis=1, inplace=True)\n",
    "    \n",
    "    columns_dep_price = ['price', 'price_aprox_local_currency', 'price_per_m2']\n",
    "    df.drop(columns_dep_price, axis=1, inplace=True)\n",
    "    \n",
    "    return df"
   ]
  },
  {
   "cell_type": "markdown",
   "id": "f47ef1c8-b073-47a1-beba-028cd71500a6",
   "metadata": {
    "deletable": false,
    "editable": false
   },
   "source": [
    "**2:** Use glob to create the list `files`. It should contain the filenames of all the Mexico City real estate CSVs in the `./data` directory, except for `mexico-city-test-features.csv`."
   ]
  },
  {
   "cell_type": "code",
   "execution_count": null,
   "id": "db087948-57b5-4feb-931c-a51830b96b03",
   "metadata": {
    "ExecuteTime": {
     "end_time": "2023-04-17T00:12:38.130337Z",
     "start_time": "2023-04-17T00:12:38.124634Z"
    },
    "deletable": false
   },
   "outputs": [],
   "source": [
    "files = glob(\"./data/mexico-city-real-estate-[0-9].csv\")\n",
    "files"
   ]
  },
  {
   "cell_type": "markdown",
   "id": "5ddea2e2-0b77-4115-9659-90508261c8f7",
   "metadata": {
    "deletable": false,
    "editable": false
   },
   "source": [
    "**3:** Combine your `wrangle` function, a list comprehension, and `pd.concat` to create a DataFrame `df`. It should contain all the properties from the five CSVs in `files`."
   ]
  },
  {
   "cell_type": "code",
   "execution_count": null,
   "id": "a4cbe7ee-ab23-4337-9a93-03303bc7f91e",
   "metadata": {
    "ExecuteTime": {
     "end_time": "2023-04-17T00:12:38.285083Z",
     "start_time": "2023-04-17T00:12:38.131818Z"
    },
    "deletable": false
   },
   "outputs": [],
   "source": [
    "df = pd.concat([wrangle(file) for file in files])\n",
    "print(df.info())\n",
    "df.head()"
   ]
  },
  {
   "cell_type": "markdown",
   "id": "de2683ec-8324-4f60-b4ec-fcb316770512",
   "metadata": {
    "deletable": false,
    "editable": false
   },
   "source": [
    "## Explore"
   ]
  },
  {
   "cell_type": "markdown",
   "id": "c49a4444-adb3-4193-b8d8-db7596c441e1",
   "metadata": {
    "deletable": false,
    "editable": false
   },
   "source": [
    "**4:** Create a histogram showing the distribution of apartment prices (`\"price_aprox_usd\"`) in `df`. Be sure to label the x-axis `\"Price [$]\"`, the y-axis `\"Count\"`, and give it the title `\"Distribution of Apartment Prices\"`. Use Matplotlib (`plt`).\n",
    "\n",
    "What does the distribution of price look like? Is the data normal, a little skewed, or very skewed?"
   ]
  },
  {
   "cell_type": "code",
   "execution_count": null,
   "id": "7d1f709c-fb6d-402c-9745-d9bbceae87c0",
   "metadata": {
    "ExecuteTime": {
     "end_time": "2023-04-17T00:12:38.500726Z",
     "start_time": "2023-04-17T00:12:38.286763Z"
    },
    "deletable": false
   },
   "outputs": [],
   "source": [
    "# Build histogram\n",
    "plt.hist(df['price_aprox_usd'])\n",
    "\n",
    "\n",
    "# Label axes\n",
    "plt.xlabel('Price [$]')\n",
    "plt.ylabel('Count')\n",
    "\n",
    "# Add title\n",
    "plt.title('Distribution of Apartment Prices')"
   ]
  },
  {
   "cell_type": "markdown",
   "id": "3e4f18dc-04f3-451a-a772-0d605fb1b5a2",
   "metadata": {
    "deletable": false,
    "editable": false
   },
   "source": [
    "**5:** Create a scatter plot that shows apartment price (`\"price_aprox_usd\"`) as a function of apartment size (`\"surface_covered_in_m2\"`). Be sure to label your x-axis `\"Area [sq meters]\"` and y-axis `\"Price [USD]\"`. Your plot should have the title `\"Mexico City: Price vs. Area\"`. Use Matplotlib (`plt`)."
   ]
  },
  {
   "cell_type": "code",
   "execution_count": null,
   "id": "8f430f25-1a7e-435b-b5bf-2bf8427eefdd",
   "metadata": {
    "ExecuteTime": {
     "end_time": "2023-04-17T00:12:38.586317Z",
     "start_time": "2023-04-17T00:12:38.498038Z"
    },
    "deletable": false
   },
   "outputs": [],
   "source": [
    "# Build scatter plot\n",
    "plt.scatter(x=df['surface_covered_in_m2'], y=df['price_aprox_usd'])\n",
    "\n",
    "\n",
    "# Label axes\n",
    "plt.xlabel('Area [sq meters]')\n",
    "plt.ylabel('Price [USD]')\n",
    "\n",
    "# Add title\n",
    "plt.title('Mexico City: Price vs. Area')"
   ]
  },
  {
   "cell_type": "markdown",
   "id": "5670726a-411e-42d5-832f-d522d5b44a50",
   "metadata": {
    "deletable": false,
    "editable": false
   },
   "source": [
    "Do you see a relationship between price and area in the data? How is this similar to or different from the Buenos Aires dataset?<span style='color: transparent; font-size:1%'>WQU WorldQuant University Applied Data Science Lab QQQQ</span>"
   ]
  },
  {
   "cell_type": "markdown",
   "id": "095bc111-55a9-40c2-b322-4ab50c617750",
   "metadata": {
    "deletable": false,
    "editable": false
   },
   "source": [
    "**6:** Create a Mapbox scatter plot that shows the location of the apartments in your dataset and represent their price using color.\n",
    "\n",
    "What areas of the city seem to have higher real estate prices?"
   ]
  },
  {
   "cell_type": "code",
   "execution_count": null,
   "id": "d07fc514-897c-4399-87e1-97c930bf8a66",
   "metadata": {
    "ExecuteTime": {
     "end_time": "2023-04-17T00:12:39.055673Z",
     "start_time": "2023-04-17T00:12:38.591718Z"
    },
    "deletable": false
   },
   "outputs": [],
   "source": [
    "# Plot Mapbox location and price\n",
    "fig = px.scatter_mapbox(\n",
    "    df,  # Our DataFrame\n",
    "    lat=\"lat\",\n",
    "    lon=\"lon\",\n",
    "    width=800,  # Width of map\n",
    "    height=800,  # Height of map\n",
    "    color=\"price_aprox_usd\",\n",
    "    hover_data=[\"price_aprox_usd\"],  # Display price when hovering mouse over house\n",
    ")\n",
    "\n",
    "fig.update_layout(mapbox_style=\"open-street-map\")\n",
    "\n",
    "fig.show()"
   ]
  },
  {
   "cell_type": "markdown",
   "id": "1d9f5ee7-348c-407b-a8ce-b4a79f7a0cc4",
   "metadata": {
    "deletable": false,
    "editable": false
   },
   "source": [
    "## Split"
   ]
  },
  {
   "cell_type": "markdown",
   "id": "f943c3ec-c299-4941-996c-4ea4a21a14f5",
   "metadata": {
    "deletable": false,
    "editable": false
   },
   "source": [
    "**7:** Create your feature matrix `X_train` and target vector `y_train`. Your target is `\"price_aprox_usd\"`. Your features should be all the columns that remain in the DataFrame you cleaned above."
   ]
  },
  {
   "cell_type": "code",
   "execution_count": null,
   "id": "eac77c6c-b0e3-4d84-af72-f75270c11187",
   "metadata": {
    "ExecuteTime": {
     "end_time": "2023-04-17T00:12:39.061703Z",
     "start_time": "2023-04-17T00:12:39.061609Z"
    },
    "deletable": false
   },
   "outputs": [],
   "source": [
    "# Split data into feature matrix `X_train` and target vector `y_train`.\n",
    "\n",
    "X_train = df.drop('price_aprox_usd', axis=1)\n",
    "y_train = df['price_aprox_usd']"
   ]
  },
  {
   "cell_type": "markdown",
   "id": "df817f6c-ca21-49d0-be84-7af163041ca5",
   "metadata": {
    "deletable": false,
    "editable": false
   },
   "source": [
    "# Build Model"
   ]
  },
  {
   "cell_type": "markdown",
   "id": "2ddaad75-ef9c-49c0-a963-4348483e7201",
   "metadata": {
    "deletable": false,
    "editable": false
   },
   "source": [
    "## Baseline"
   ]
  },
  {
   "cell_type": "markdown",
   "id": "6cdda106-0d7a-426d-aa9d-94ed60702c32",
   "metadata": {
    "deletable": false,
    "editable": false
   },
   "source": [
    "**8:** Calculate the baseline mean absolute error for your model."
   ]
  },
  {
   "cell_type": "code",
   "execution_count": null,
   "id": "3a998470-7558-4c2a-8681-ea76d9b2ae16",
   "metadata": {
    "ExecuteTime": {
     "end_time": "2023-04-17T00:12:39.061874Z",
     "start_time": "2023-04-17T00:12:36.433535Z"
    },
    "deletable": false
   },
   "outputs": [],
   "source": [
    "y_mean = y_train.mean()\n",
    "y_pred_baseline = [y_mean] * len(y_train)\n",
    "baseline_mae = mean_absolute_error(y_pred_baseline, y_train)\n",
    "print(\"Mean apt price:\", y_mean)\n",
    "print(\"Baseline MAE:\", baseline_mae)"
   ]
  },
  {
   "cell_type": "markdown",
   "id": "0b5e8c7d-dbd3-4405-a048-475a0150578b",
   "metadata": {
    "deletable": false,
    "editable": false
   },
   "source": [
    "## Iterate"
   ]
  },
  {
   "cell_type": "markdown",
   "id": "d43cc258-e24e-4231-8638-7b80df4636dc",
   "metadata": {
    "deletable": false,
    "editable": false
   },
   "source": [
    "**9:** Create a pipeline named `model` that contains all the transformers necessary for this dataset and one of the predictors you've used during this project. Then fit your model to the training data."
   ]
  },
  {
   "cell_type": "code",
   "execution_count": null,
   "id": "33e3f186-f016-47c2-abe6-51917ff71b9f",
   "metadata": {
    "ExecuteTime": {
     "end_time": "2023-04-17T00:12:39.062024Z",
     "start_time": "2023-04-17T00:12:36.443851Z"
    }
   },
   "outputs": [],
   "source": [
    "df.info()"
   ]
  },
  {
   "cell_type": "code",
   "execution_count": null,
   "id": "a2055448-7694-42a3-94ed-051a5c7b45fd",
   "metadata": {
    "ExecuteTime": {
     "end_time": "2023-04-17T00:12:39.062122Z",
     "start_time": "2023-04-17T00:12:36.443916Z"
    },
    "deletable": false
   },
   "outputs": [],
   "source": [
    "# Build Model\n",
    "model = make_pipeline(\n",
    "    OneHotEncoder(use_cat_names=True),\n",
    "    SimpleImputer(),\n",
    "    Ridge()\n",
    "    \n",
    ")\n",
    "# Fit model\n",
    "model.fit(X_train, y_train)"
   ]
  },
  {
   "cell_type": "markdown",
   "id": "432b2c22-9c54-4326-84a7-0f34d99ff193",
   "metadata": {
    "deletable": false,
    "editable": false
   },
   "source": [
    "## Evaluate"
   ]
  },
  {
   "cell_type": "markdown",
   "id": "157be0ad-80c4-4b2a-9b44-60ffd2dd9c84",
   "metadata": {
    "deletable": false,
    "editable": false
   },
   "source": [
    "**10:** Read the CSV file `mexico-city-test-features.csv` into the DataFrame `X_test`."
   ]
  },
  {
   "cell_type": "markdown",
   "id": "d71a31f5-3f69-4c4f-9541-62d9a9e0e2c4",
   "metadata": {
    "deletable": false,
    "editable": false
   },
   "source": [
    "<div class=\"alert alert-block alert-info\">\n",
    "<b>Tip:</b> Make sure the <code>X_train</code> you used to train your model has the same column order as <code>X_test</code>. Otherwise, it may hurt your model's performance.\n",
    "</div>"
   ]
  },
  {
   "cell_type": "code",
   "execution_count": null,
   "id": "9fcb2d73-9c22-4e0c-b6d0-02318981c3d0",
   "metadata": {
    "ExecuteTime": {
     "end_time": "2023-04-17T00:12:39.062213Z",
     "start_time": "2023-04-17T00:12:36.458254Z"
    },
    "deletable": false
   },
   "outputs": [],
   "source": [
    "X_test = pd.read_csv('data/mexico-city-test-features.csv')\n",
    "print(X_test.info())\n",
    "X_test.head()"
   ]
  },
  {
   "cell_type": "markdown",
   "id": "a7dfeb49-87ba-4eac-9502-b2851a8f3da9",
   "metadata": {
    "deletable": false,
    "editable": false
   },
   "source": [
    "**11:** Use your model to generate a Series of predictions for `X_test`. When you submit your predictions to the grader, it will calculate the mean absolute error for your model."
   ]
  },
  {
   "cell_type": "code",
   "execution_count": null,
   "id": "ff1f3096-cab7-4ef6-8f18-d64fe5fc6a6f",
   "metadata": {
    "ExecuteTime": {
     "end_time": "2023-04-17T00:12:39.062316Z",
     "start_time": "2023-04-17T00:12:36.463845Z"
    },
    "deletable": false
   },
   "outputs": [],
   "source": [
    "y_test_pred = pd.Series(model.predict(X_test))\n",
    "y_test_pred.head()"
   ]
  },
  {
   "cell_type": "markdown",
   "id": "61a510f1-d69d-40ba-838d-208d1cda2275",
   "metadata": {
    "deletable": false,
    "editable": false
   },
   "source": [
    "# Communicate Results"
   ]
  },
  {
   "cell_type": "markdown",
   "id": "087e1df2-8025-4f95-b3b0-3071ff4aebd3",
   "metadata": {
    "deletable": false,
    "editable": false
   },
   "source": [
    "**12:** Create a Series named `feat_imp`. The index should contain the names of all the features your model considers when making predictions; the values should be the coefficient values associated with each feature. The Series should be sorted ascending by absolute value."
   ]
  },
  {
   "cell_type": "code",
   "execution_count": null,
   "id": "8c52a764-6041-4765-bf99-5c330d567e5e",
   "metadata": {
    "ExecuteTime": {
     "end_time": "2023-04-17T00:12:39.063215Z",
     "start_time": "2023-04-17T00:12:36.473750Z"
    },
    "deletable": false
   },
   "outputs": [],
   "source": [
    "coefficients = model.named_steps['ridge'].coef_\n",
    "features     = model.named_steps['onehotencoder'].get_feature_names()\n",
    "feat_imp     = pd.Series(index=features, data=coefficients)\n",
    "feat_imp"
   ]
  },
  {
   "cell_type": "markdown",
   "id": "34eab663-5a3d-4e33-afef-7871c8023c21",
   "metadata": {
    "deletable": false,
    "editable": false
   },
   "source": [
    "**13:** Create a horizontal bar chart that shows the **10 most influential** coefficients for your model. Be sure to label your x- and y-axis `\"Importance [USD]\"` and `\"Feature\"`, respectively, and give your chart the title `\"Feature Importances for Apartment Price\"`. Use pandas."
   ]
  },
  {
   "cell_type": "code",
   "execution_count": null,
   "id": "848059a6-a548-4530-9e08-6beacd9ca4c6",
   "metadata": {
    "ExecuteTime": {
     "end_time": "2023-04-17T00:12:39.749706Z",
     "start_time": "2023-04-17T00:12:39.106605Z"
    },
    "deletable": false
   },
   "outputs": [],
   "source": [
    "# Build bar chart\n",
    "feat_imp.plot(kind='barh')\n",
    "\n",
    "\n",
    "# Label axes\n",
    "plt.xlabel('Importance [USD]')\n",
    "plt.ylabel('Feature')\n",
    "\n",
    "# Add title\n",
    "plt.title('Feature Importances for Apartment Price')"
   ]
  }
 ],
 "metadata": {
  "kernelspec": {
   "display_name": "Python 3 (ipykernel)",
   "language": "python",
   "name": "python3"
  },
  "language_info": {
   "codemirror_mode": {
    "name": "ipython",
    "version": 3
   },
   "file_extension": ".py",
   "mimetype": "text/x-python",
   "name": "python",
   "nbconvert_exporter": "python",
   "pygments_lexer": "ipython3",
   "version": "3.7.16"
  }
 },
 "nbformat": 4,
 "nbformat_minor": 5
}
