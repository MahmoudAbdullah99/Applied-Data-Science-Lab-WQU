{
 "cells": [
  {
   "cell_type": "markdown",
   "id": "eee06e3b-dfe4-47dc-aba0-4b3dcc994eb3",
   "metadata": {
    "deletable": false,
    "editable": false
   },
   "source": [
    "<font size=\"+3\"><strong>Housing in Brazil</strong></font>"
   ]
  },
  {
   "cell_type": "markdown",
   "id": "05c571d0-8b68-4a88-864a-d66d285c2486",
   "metadata": {
    "deletable": false,
    "editable": false
   },
   "source": [
    "In this assignment, you'll work with a dataset of homes for sale in Brazil. Your goal is to determine if there are regional differences in the real estate market. Also, you will look at southern Brazil to see if there is a relationship between home size and price, similar to what you saw with housing in some states in Mexico."
   ]
  },
  {
   "cell_type": "markdown",
   "id": "3745f220-01be-4085-85f2-63bff34b5bbd",
   "metadata": {
    "deletable": false,
    "editable": false
   },
   "source": [
    "**Before you start:** Import the libraries you'll use in this notebook: Matplotlib, pandas, and plotly. Be sure to import them under the aliases we've used in this project."
   ]
  },
  {
   "cell_type": "code",
   "execution_count": null,
   "id": "f6b95bb4-c12b-4574-95e1-af2d0c44ff4b",
   "metadata": {
    "ExecuteTime": {
     "end_time": "2023-04-16T21:24:26.390329Z",
     "start_time": "2023-04-16T21:24:25.236239Z"
    },
    "deletable": false
   },
   "outputs": [],
   "source": [
    "# Import Matplotlib, pandas, and plotly\n",
    "import pandas as pd\n",
    "import matplotlib.pyplot as plt\n",
    "import plotly.express as px"
   ]
  },
  {
   "cell_type": "markdown",
   "id": "217f4240-d2d1-4ce1-9665-7452046e837f",
   "metadata": {
    "deletable": false,
    "editable": false
   },
   "source": [
    "In this assignment, you'll work with real estate data from Brazil.  In the `data` directory for this project there are two CSV that you need to import and clean, one-by-one."
   ]
  },
  {
   "cell_type": "markdown",
   "id": "6b12417f-57dd-4e0b-82c4-ecf3f13a147c",
   "metadata": {
    "deletable": false,
    "editable": false
   },
   "source": [
    "## Import"
   ]
  },
  {
   "cell_type": "markdown",
   "id": "0699a79b-1113-4561-86d9-1f301547c712",
   "metadata": {
    "deletable": false,
    "editable": false
   },
   "source": [
    "First, you are going to import and clean the data in `data/brasil-real-estate-1.csv`. "
   ]
  },
  {
   "cell_type": "markdown",
   "id": "7024e9ff-45da-4ab5-ac81-0315f5cecb6e",
   "metadata": {
    "deletable": false,
    "editable": false
   },
   "source": [
    "**1:** Import the CSV file `data/brasil-real-estate-1.csv` into the DataFrame `df1`."
   ]
  },
  {
   "cell_type": "code",
   "execution_count": null,
   "id": "778216c1-b028-41fb-95b2-386af2535fde",
   "metadata": {
    "ExecuteTime": {
     "end_time": "2023-04-16T21:24:26.391015Z",
     "start_time": "2023-04-16T21:24:26.390207Z"
    },
    "deletable": false
   },
   "outputs": [],
   "source": [
    "df1 = pd.read_csv(\"./data/brasil-real-estate-1.csv\")\n",
    "df1.head()"
   ]
  },
  {
   "cell_type": "markdown",
   "id": "77af0776-0c36-4498-9415-e0f75ea438ab",
   "metadata": {
    "deletable": false,
    "editable": false
   },
   "source": [
    "Before you move to the next task, take a moment to inspect `df1` using the `info` and `head` methods. What issues do you see in the data? What cleaning will you need to do before you can conduct your analysis?"
   ]
  },
  {
   "cell_type": "code",
   "execution_count": null,
   "id": "760d1641-a466-461a-986c-9a25d7079d3f",
   "metadata": {
    "ExecuteTime": {
     "end_time": "2023-04-16T21:24:26.391326Z",
     "start_time": "2023-04-16T21:24:26.390540Z"
    },
    "deletable": false
   },
   "outputs": [],
   "source": [
    "df1.info()"
   ]
  },
  {
   "cell_type": "markdown",
   "id": "02266ebf-0522-42c9-9f62-da7104c9694f",
   "metadata": {
    "deletable": false,
    "editable": false
   },
   "source": [
    "**2:** Drop all rows with `NaN` values from the DataFrame `df1`."
   ]
  },
  {
   "cell_type": "code",
   "execution_count": null,
   "id": "51a789a6-cc2b-425e-9aff-33842b22c535",
   "metadata": {
    "ExecuteTime": {
     "end_time": "2023-04-16T21:24:26.393415Z",
     "start_time": "2023-04-16T21:24:26.390718Z"
    },
    "deletable": false
   },
   "outputs": [],
   "source": [
    "df1.dropna(inplace=True)"
   ]
  },
  {
   "cell_type": "markdown",
   "id": "d34cf54f-5a8c-48df-9cb5-8a2a3926063f",
   "metadata": {
    "deletable": false,
    "editable": false
   },
   "source": [
    "**3:** Use the `\"lat-lon\"` column to create two separate columns in `df1`: `\"lat\"` and `\"lon\"`. Make sure that the data type for these new columns is `float`."
   ]
  },
  {
   "cell_type": "code",
   "execution_count": null,
   "id": "ffa284ae-5df3-45a0-a143-cdaf276cbc2f",
   "metadata": {
    "ExecuteTime": {
     "end_time": "2023-04-16T21:24:26.473965Z",
     "start_time": "2023-04-16T21:24:26.395745Z"
    },
    "deletable": false
   },
   "outputs": [],
   "source": [
    "df1[[\"lat\", \"lon\"]] = df1[\"lat-lon\"].str.split(\",\", expand=True).astype('float')"
   ]
  },
  {
   "cell_type": "markdown",
   "id": "09545511-b4d8-4057-aa1a-d3d79aa8d5f6",
   "metadata": {
    "deletable": false,
    "editable": false
   },
   "source": [
    "**4:** Use the `\"place_with_parent_names\"` column to create a `\"state\"` column for `df1`. (Note that the state name always appears after `\"|Brasil|\"` in each string.)"
   ]
  },
  {
   "cell_type": "code",
   "execution_count": null,
   "id": "3a6bb39e-f62d-499d-a83c-7092d4d1679c",
   "metadata": {
    "ExecuteTime": {
     "end_time": "2023-04-16T21:24:26.524808Z",
     "start_time": "2023-04-16T21:24:26.468573Z"
    },
    "deletable": false
   },
   "outputs": [],
   "source": [
    "df1[\"state\"] = df1[\"place_with_parent_names\"].str.split(\"|\", expand=True)[2]\n",
    "df1.head()"
   ]
  },
  {
   "cell_type": "markdown",
   "id": "12a7e9d4-445f-41bc-9a3b-0304945b8b7b",
   "metadata": {
    "deletable": false,
    "editable": false
   },
   "source": [
    "**5:** Transform the `\"price_usd\"` column of `df1` so that all values are floating-point numbers instead of strings."
   ]
  },
  {
   "cell_type": "code",
   "execution_count": null,
   "id": "d9962e97-7cd2-4944-801e-3e651c5236d9",
   "metadata": {
    "ExecuteTime": {
     "end_time": "2023-04-16T21:24:26.552137Z",
     "start_time": "2023-04-16T21:24:26.502187Z"
    },
    "deletable": false
   },
   "outputs": [],
   "source": [
    "df1[\"price_usd\"] = df1[\"price_usd\"].str.replace(\"$\", \"\")\n",
    "df1[\"price_usd\"] = df1[\"price_usd\"].str.replace(\",\", \"\")\n",
    "df1[\"price_usd\"] = df1[\"price_usd\"].astype('float')\n",
    "df1.head()"
   ]
  },
  {
   "cell_type": "markdown",
   "id": "298b0413-1ea6-4970-b479-d29e2e54d2d0",
   "metadata": {
    "deletable": false,
    "editable": false
   },
   "source": [
    "**6:** Drop the `\"lat-lon\"` and `\"place_with_parent_names\"` columns from `df1`."
   ]
  },
  {
   "cell_type": "code",
   "execution_count": null,
   "id": "6a8ca1b8-236f-429c-80bc-13a111020bd6",
   "metadata": {
    "ExecuteTime": {
     "end_time": "2023-04-16T21:24:26.570944Z",
     "start_time": "2023-04-16T21:24:26.507007Z"
    },
    "deletable": false
   },
   "outputs": [],
   "source": [
    "df1.drop([\"lat-lon\", \"place_with_parent_names\"], axis=1, inplace=True)\n",
    "df1.head()"
   ]
  },
  {
   "cell_type": "markdown",
   "id": "80c15538-fc5d-43b7-a0ca-4e804cb1ef80",
   "metadata": {
    "deletable": false,
    "editable": false
   },
   "source": [
    "Now that you have cleaned `data/brasil-real-estate-1.csv` and created `df1`, you are going to import and clean the data from the second file, `brasil-real-estate-2.csv`. "
   ]
  },
  {
   "cell_type": "markdown",
   "id": "e9bb61c8-caa2-4cfd-8c9c-3441c2b05ffa",
   "metadata": {
    "deletable": false,
    "editable": false
   },
   "source": [
    "**7:** Import the CSV file `brasil-real-estate-2.csv` into the DataFrame `df2`."
   ]
  },
  {
   "cell_type": "code",
   "execution_count": null,
   "id": "d3de50f1-b01f-4be9-982f-b189c8e0a069",
   "metadata": {
    "ExecuteTime": {
     "end_time": "2023-04-16T21:24:26.571206Z",
     "start_time": "2023-04-16T21:24:26.550177Z"
    },
    "deletable": false
   },
   "outputs": [],
   "source": [
    "df2 = pd.read_csv(\"data/brasil-real-estate-2.csv\")\n",
    "df2.head()"
   ]
  },
  {
   "cell_type": "markdown",
   "id": "367018d1-c5e1-4d42-9e54-1f8773b0c4e3",
   "metadata": {
    "deletable": false,
    "editable": false
   },
   "source": [
    "Before you jump to the next task, take a look at `df2` using the `info` and `head` methods. What issues do you see in the data? How is it similar or different from `df1`?"
   ]
  },
  {
   "cell_type": "code",
   "execution_count": null,
   "id": "c6465562-ea0a-435c-9b78-2a63a1d05b5b",
   "metadata": {
    "ExecuteTime": {
     "end_time": "2023-04-16T21:24:26.571394Z",
     "start_time": "2023-04-16T21:24:26.550380Z"
    },
    "deletable": false
   },
   "outputs": [],
   "source": [
    "df2.info()"
   ]
  },
  {
   "cell_type": "markdown",
   "id": "5e4131b4-257e-450f-bebc-b095daedc04d",
   "metadata": {
    "deletable": false,
    "editable": false
   },
   "source": [
    "**8:** Use the `\"price_brl\"` column to create a new column named `\"price_usd\"`. (Keep in mind that, when this data was collected in 2015 and 2016, a US dollar cost 3.19 Brazilian reals.)"
   ]
  },
  {
   "cell_type": "code",
   "execution_count": null,
   "id": "f720d64e-29d4-4b22-a44e-c48c52f30813",
   "metadata": {
    "ExecuteTime": {
     "end_time": "2023-04-16T21:24:26.653807Z",
     "start_time": "2023-04-16T21:24:26.598292Z"
    },
    "deletable": false
   },
   "outputs": [],
   "source": [
    "df2[\"price_usd\"] = df2[\"price_brl\"] / 3.19\n",
    "df2.head()"
   ]
  },
  {
   "cell_type": "markdown",
   "id": "74edaa87-9043-46e6-a845-bf53d12faa6e",
   "metadata": {
    "deletable": false,
    "editable": false
   },
   "source": [
    "**9:** Drop the `\"price_brl\"` column from `df2`, as well as any rows that have `NaN` values."
   ]
  },
  {
   "cell_type": "code",
   "execution_count": null,
   "id": "b608f291-e5c0-4de3-be93-b851acc855a0",
   "metadata": {
    "ExecuteTime": {
     "end_time": "2023-04-16T21:24:26.654109Z",
     "start_time": "2023-04-16T21:24:26.598466Z"
    },
    "deletable": false
   },
   "outputs": [],
   "source": [
    "df2.dropna(inplace=True)\n",
    "df2.drop(\"price_brl\", axis=1, inplace=True)\n",
    "df2.head()"
   ]
  },
  {
   "cell_type": "markdown",
   "id": "63100093-f5ac-4dfe-9c46-9df3852ad1fc",
   "metadata": {
    "deletable": false,
    "editable": false
   },
   "source": [
    "OK! Now that you've cleaned the data from both CSV files and created `df1` and `df2`, it's time to combine them into a single DataFrame."
   ]
  },
  {
   "cell_type": "markdown",
   "id": "39b81104-a453-4da6-9b91-501a3c612044",
   "metadata": {
    "deletable": false,
    "editable": false
   },
   "source": [
    "**10:** Concatenate `df1` and `df2` to create a new DataFrame named `df`."
   ]
  },
  {
   "cell_type": "code",
   "execution_count": null,
   "id": "adb4e051-e652-42e6-973d-51b9f6e23496",
   "metadata": {
    "ExecuteTime": {
     "end_time": "2023-04-16T21:24:26.654275Z",
     "start_time": "2023-04-16T21:24:26.598586Z"
    },
    "deletable": false
   },
   "outputs": [],
   "source": [
    "df = pd.concat([df1, df2])\n",
    "print(\"df shape:\", df.shape)"
   ]
  },
  {
   "cell_type": "markdown",
   "id": "4cccbbd5-5548-4431-822b-26a1a0f7af22",
   "metadata": {
    "deletable": false,
    "editable": false
   },
   "source": [
    "## Explore"
   ]
  },
  {
   "cell_type": "markdown",
   "id": "59186cd8-3917-4fb0-902e-8c73e91e0172",
   "metadata": {
    "deletable": false,
    "editable": false
   },
   "source": [
    "It's time to start exploring your data. In this section, you'll use your new data visualization skills to learn more about the regional differences in the Brazilian real estate market.\n",
    "\n",
    "Complete the code below to create a `scatter_mapbox` showing the location of the properties in `df`.<span style='color: transparent; font-size:1%'>WQU WorldQuant University Applied Data Science Lab QQQQ</span>"
   ]
  },
  {
   "cell_type": "code",
   "execution_count": null,
   "id": "e5563013-2290-46a1-bbb5-2575b1b17207",
   "metadata": {
    "ExecuteTime": {
     "end_time": "2023-04-16T21:24:27.082338Z",
     "start_time": "2023-04-16T21:24:26.598689Z"
    },
    "deletable": false
   },
   "outputs": [],
   "source": [
    "# fig = px.scatter_mapbox(\n",
    "#     df,\n",
    "#     lat=\"lat\",\n",
    "#     lon=\"lon\",\n",
    "#     center={\"lat\": -14.2, \"lon\": -51.9},  # Map will be centered on Brazil\n",
    "#     width=600,\n",
    "#     height=600,\n",
    "#     hover_data=[\"price_usd\"],  # Display price when hovering mouse over house\n",
    "# )\n",
    "\n",
    "# fig.update_layout(mapbox_style=\"open-street-map\")\n",
    "\n",
    "# fig.show()"
   ]
  },
  {
   "cell_type": "markdown",
   "id": "37b8b9e1-2be8-4d18-97f7-0635fb269487",
   "metadata": {
    "deletable": false,
    "editable": false
   },
   "source": [
    "**11:** Use the `describe` method to create a DataFrame `summary_stats` with the summary statistics for the `\"area_m2\"` and `\"price_usd\"` columns."
   ]
  },
  {
   "cell_type": "code",
   "execution_count": null,
   "id": "3440a823-b9e1-4208-92b6-38edf993fe15",
   "metadata": {
    "ExecuteTime": {
     "end_time": "2023-04-16T21:24:27.092880Z",
     "start_time": "2023-04-16T21:24:27.071232Z"
    },
    "deletable": false
   },
   "outputs": [],
   "source": [
    "summary_stats = df[[\"area_m2\", \"price_usd\"]].describe()\n",
    "summary_stats"
   ]
  },
  {
   "cell_type": "markdown",
   "id": "47c6f1a1-bd92-424e-aef9-acdb3d11af82",
   "metadata": {
    "deletable": false,
    "editable": false
   },
   "source": [
    "**12:** Create a histogram of `\"price_usd\"`. Make sure that the x-axis has the label `\"Price [USD]\"`, the y-axis has the label `\"Frequency\"`, and the plot has the title `\"Distribution of Home Prices\"`. Use Matplotlib (`plt`)."
   ]
  },
  {
   "cell_type": "code",
   "execution_count": null,
   "id": "c70eb726-30f1-4be7-b138-c5b9e263dfe9",
   "metadata": {
    "ExecuteTime": {
     "end_time": "2023-04-16T21:24:27.781991Z",
     "start_time": "2023-04-16T21:24:27.072188Z"
    },
    "deletable": false
   },
   "outputs": [],
   "source": [
    "# Build histogram\n",
    "plt.hist(df[\"price_usd\"])\n",
    "\n",
    "# Label axes\n",
    "plt.xlabel(\"Price [USD]\")\n",
    "plt.ylabel(\"Frequency\")\n",
    "\n",
    "# Add title\n",
    "plt.title(\"Distribution of Home Prices\")"
   ]
  },
  {
   "cell_type": "markdown",
   "id": "85b7220c-d8d0-40db-8e11-33c48f6c0a20",
   "metadata": {
    "deletable": false,
    "editable": false
   },
   "source": [
    "**13:** Create a horizontal boxplot of `\"area_m2\"`. Make sure that the x-axis has the label `\"Area [sq meters]\"` and the plot has the title `\"Distribution of Home Sizes\"`. Use Matplotlib (`plt`)."
   ]
  },
  {
   "cell_type": "code",
   "execution_count": null,
   "id": "75b2b2d5-58eb-4259-8a86-8eb05516133a",
   "metadata": {
    "ExecuteTime": {
     "end_time": "2023-04-16T21:24:27.783088Z",
     "start_time": "2023-04-16T21:24:27.210051Z"
    },
    "deletable": false
   },
   "outputs": [],
   "source": [
    "# Build box plot\n",
    "plt.boxplot(df[\"area_m2\"])\n",
    "\n",
    "# Label x-axis\n",
    "plt.xlabel(\"Area [sq meters]\")\n",
    "\n",
    "# Add title\n",
    "plt.title(\"Distribution of Home Sizes\")"
   ]
  },
  {
   "cell_type": "markdown",
   "id": "ccd46eb8-ca31-41ad-bfe7-32e30db81b41",
   "metadata": {
    "deletable": false,
    "editable": false
   },
   "source": [
    "**14:** Use the `groupby` method to create a Series named `mean_price_by_region` that shows the mean home price in each region in Brazil, sorted from smallest to largest."
   ]
  },
  {
   "cell_type": "code",
   "execution_count": null,
   "id": "64d7e89e-c2f3-49bd-8f3d-f8ea338aea41",
   "metadata": {
    "ExecuteTime": {
     "end_time": "2023-04-16T21:24:27.783444Z",
     "start_time": "2023-04-16T21:24:27.298903Z"
    },
    "deletable": false
   },
   "outputs": [],
   "source": [
    "mean_price_by_region = df.groupby(\"region\")[\"price_usd\"].mean()\n",
    "mean_price_by_region"
   ]
  },
  {
   "cell_type": "markdown",
   "id": "8745fd92-7c3c-4aff-8766-46e951ccdf0d",
   "metadata": {
    "deletable": false,
    "editable": false
   },
   "source": [
    "**15:** Use `mean_price_by_region` to create a bar chart. Make sure you label the x-axis as `\"Region\"` and the y-axis as `\"Mean Price [USD]\"`, and give the chart the title `\"Mean Home Price by Region\"`. Use pandas."
   ]
  },
  {
   "cell_type": "code",
   "execution_count": null,
   "id": "a72a42d1-a47a-47ec-9a7b-dde1949a29a0",
   "metadata": {
    "ExecuteTime": {
     "end_time": "2023-04-16T21:24:27.784590Z",
     "start_time": "2023-04-16T21:24:27.308652Z"
    },
    "deletable": false
   },
   "outputs": [],
   "source": [
    "# Build bar chart, label axes, add title\n",
    "mean_price_by_region.plot(kind='bar',\n",
    "                          xlabel='Region',\n",
    "                          ylabel='Mean Price [USD]',\n",
    "                          title=\"Mean Home Price by Region\")"
   ]
  },
  {
   "cell_type": "markdown",
   "id": "80f35ca2-1bec-4f45-aebe-72218e765be9",
   "metadata": {
    "deletable": false,
    "editable": false
   },
   "source": [
    "**16:** Create a DataFrame `df_south` that contains all the homes from `df` that are in the `\"South\"` region."
   ]
  },
  {
   "cell_type": "code",
   "execution_count": null,
   "id": "26d30a7a-bb61-4426-94c4-d855b693024d",
   "metadata": {
    "ExecuteTime": {
     "end_time": "2023-04-16T21:24:27.784827Z",
     "start_time": "2023-04-16T21:24:27.470075Z"
    },
    "deletable": false
   },
   "outputs": [],
   "source": [
    "df_south = df[df[\"region\"] == \"South\"]\n",
    "df_south.head()"
   ]
  },
  {
   "cell_type": "markdown",
   "id": "b9703517-9c63-4f06-a82c-bcfdbc0e55d3",
   "metadata": {
    "deletable": false,
    "editable": false
   },
   "source": [
    "**17:** Use the `value_counts` method to create a Series `homes_by_state` that contains the number of properties in each state in `df_south`."
   ]
  },
  {
   "cell_type": "code",
   "execution_count": null,
   "id": "639ce59c-14cb-4840-8839-2c4cdd13922a",
   "metadata": {
    "ExecuteTime": {
     "end_time": "2023-04-16T21:24:27.785023Z",
     "start_time": "2023-04-16T21:24:27.470181Z"
    },
    "deletable": false
   },
   "outputs": [],
   "source": [
    "homes_by_state = df_south[\"state\"].value_counts()\n",
    "homes_by_state"
   ]
  },
  {
   "cell_type": "markdown",
   "id": "76ce7c2a-1fac-4626-958a-4b4780d8b63c",
   "metadata": {
    "deletable": false,
    "editable": false
   },
   "source": [
    "**18:** Create a scatter plot showing price vs. area for the state in `df_south` that has the largest number of properties. Be sure to label the x-axis `\"Area [sq meters]\"` and the y-axis `\"Price [USD]\"`; and use the title `\"<name of state>: Price vs. Area\"`. Use Matplotlib (`plt`)."
   ]
  },
  {
   "cell_type": "code",
   "execution_count": null,
   "id": "1914714d-ff40-4265-9794-e2ae4c5e55da",
   "metadata": {
    "ExecuteTime": {
     "end_time": "2023-04-16T21:24:27.785776Z",
     "start_time": "2023-04-16T21:24:27.470250Z"
    },
    "deletable": false
   },
   "outputs": [],
   "source": [
    "# Subset data\n",
    "df_south_rgs = df_south[df_south[\"state\"] == homes_by_state.index[0]]\n",
    "\n",
    "# Build scatter plot\n",
    "plt.scatter(df_south_rgs[\"area_m2\"], df_south_rgs[\"price_usd\"])\n",
    "\n",
    "\n",
    "# Label axes\n",
    "plt.xlabel(\"Area [sq meters]\")\n",
    "plt.ylabel(\"Price [USD]\")\n",
    "\n",
    "# Add title\n",
    "plt.title(\"Rio Grande do Sul: Price vs. Area\")"
   ]
  },
  {
   "cell_type": "markdown",
   "id": "98d0f678-7bc5-4eba-af4f-5e808ff05b13",
   "metadata": {
    "deletable": false,
    "editable": false
   },
   "source": [
    "**19:** Create a dictionary `south_states_corr`, where the keys are the names of the three states in the `\"South\"` region of Brazil, and their associated values are the correlation coefficient between `\"area_m2\"` and `\"price_usd\"` in that state."
   ]
  },
  {
   "cell_type": "code",
   "execution_count": null,
   "id": "4311e89d-827b-4c12-9f3e-fac53b5e6f9e",
   "metadata": {
    "ExecuteTime": {
     "end_time": "2023-04-16T21:24:27.786012Z",
     "start_time": "2023-04-16T21:24:27.638158Z"
    },
    "deletable": false
   },
   "outputs": [],
   "source": [
    "south_states_corr = {state: df_south[df_south[\"state\"] == state][\"area_m2\"].corr(df_south[df_south[\"state\"] == state][\"price_usd\"]) for state in homes_by_state.index}\n",
    "\n",
    "south_states_corr"
   ]
  }
 ],
 "metadata": {
  "kernelspec": {
   "display_name": "Python 3 (ipykernel)",
   "language": "python",
   "name": "python3"
  },
  "language_info": {
   "codemirror_mode": {
    "name": "ipython",
    "version": 3
   },
   "file_extension": ".py",
   "mimetype": "text/x-python",
   "name": "python",
   "nbconvert_exporter": "python",
   "pygments_lexer": "ipython3",
   "version": "3.7.16"
  },
  "toc-autonumbering": false,
  "vscode": {
   "interpreter": {
    "hash": "1aa838312b528b31b4c7961d29e363799be244ea5d189daeb964016c6fd343fc"
   }
  }
 },
 "nbformat": 4,
 "nbformat_minor": 5
}
