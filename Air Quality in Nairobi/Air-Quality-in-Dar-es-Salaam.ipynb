{
 "cells": [
  {
   "cell_type": "markdown",
   "id": "d28effa8-98dc-459e-9741-dd0ebea44a5b",
   "metadata": {
    "deletable": false,
    "editable": false
   },
   "source": [
    "<font size=\"+3\"><strong>Air Quality in Dar es Salaam</strong></font>"
   ]
  },
  {
   "cell_type": "code",
   "execution_count": null,
   "id": "10115ee7-bdeb-497f-91c3-15abf1da1403",
   "metadata": {
    "ExecuteTime": {
     "end_time": "2023-04-17T02:43:16.374149Z",
     "start_time": "2023-04-17T02:43:14.901080Z"
    },
    "deletable": false
   },
   "outputs": [],
   "source": [
    "# Import libraries here\n",
    "from pprint import PrettyPrinter\n",
    "\n",
    "import pandas as pd\n",
    "import matplotlib.pyplot as plt\n",
    "from pymongo import MongoClient\n",
    "import plotly.express as px\n",
    "from sklearn.metrics import mean_absolute_error\n",
    "from statsmodels.graphics.tsaplots import plot_acf, plot_pacf\n",
    "from statsmodels.tsa.ar_model import AutoReg"
   ]
  },
  {
   "cell_type": "markdown",
   "id": "2de66603",
   "metadata": {},
   "source": [
    "# Prepare Data"
   ]
  },
  {
   "cell_type": "code",
   "execution_count": null,
   "id": "34487953",
   "metadata": {
    "ExecuteTime": {
     "end_time": "2023-04-17T02:43:16.374323Z",
     "start_time": "2023-04-17T02:43:16.374038Z"
    }
   },
   "outputs": [],
   "source": [
    "# !mongoimport --db air-quality --collection dar-es-salaam <./data/air-quality_da_res_salaam.json"
   ]
  },
  {
   "cell_type": "markdown",
   "id": "cb933d8e-dd2d-46cf-8ecf-5ea6b6725dc5",
   "metadata": {
    "deletable": false,
    "editable": false
   },
   "source": [
    "## Connect"
   ]
  },
  {
   "cell_type": "markdown",
   "id": "09c2fea7-09de-485a-93db-16fadf850c6e",
   "metadata": {
    "deletable": false,
    "editable": false
   },
   "source": [
    "**1:** Connect to MongoDB server running at host `\"localhost\"` on port `27017`. Then connect to the `\"air-quality\"` database and assign the collection for Dar es Salaam to the variable name `dar`."
   ]
  },
  {
   "cell_type": "code",
   "execution_count": null,
   "id": "d413ea63-33f3-4502-952f-4bdc6c817248",
   "metadata": {
    "ExecuteTime": {
     "end_time": "2023-04-17T02:43:16.374402Z",
     "start_time": "2023-04-17T02:43:16.374093Z"
    },
    "deletable": false
   },
   "outputs": [],
   "source": [
    "pp = PrettyPrinter(indent=2)\n",
    "client = MongoClient('localhost', port=27017)\n",
    "db = client['air-quality']"
   ]
  },
  {
   "cell_type": "code",
   "execution_count": null,
   "id": "c73de1f0-58fe-4ac7-bffb-e86b300aae02",
   "metadata": {},
   "outputs": [],
   "source": [
    "[c['name'] for c in db.list_collections()]"
   ]
  },
  {
   "cell_type": "code",
   "execution_count": null,
   "id": "1bd7f66d-b323-42e2-83e9-860d685253b1",
   "metadata": {},
   "outputs": [],
   "source": [
    "dar = db['dar-es-salaam']"
   ]
  },
  {
   "cell_type": "markdown",
   "id": "dc252e6b-46cd-46d7-b3ef-35123c026121",
   "metadata": {
    "deletable": false,
    "editable": false
   },
   "source": [
    "## Explore"
   ]
  },
  {
   "cell_type": "markdown",
   "id": "6b5d96fa-1cbf-4510-bf8e-606e4507fedc",
   "metadata": {
    "deletable": false,
    "editable": false
   },
   "source": [
    "**2:** Determine the numbers assigned to all the sensor sites in the Dar es Salaam collection. Your submission should be a list of integers. <span style='color: transparent; font-size:1%'>WQU WorldQuant University Applied Data Science Lab QQQQ</span>"
   ]
  },
  {
   "cell_type": "code",
   "execution_count": null,
   "id": "ef9d0423-c00e-4ea6-9de9-10382ddb7d9e",
   "metadata": {},
   "outputs": [],
   "source": [
    "dar.find_one({})"
   ]
  },
  {
   "cell_type": "code",
   "execution_count": null,
   "id": "ba705272-ab00-467a-b7a0-da23302c77e1",
   "metadata": {
    "deletable": false
   },
   "outputs": [],
   "source": [
    "sites = dar.distinct('metadata.site')\n",
    "sites"
   ]
  },
  {
   "cell_type": "markdown",
   "id": "133b2520-25ac-4a16-8c52-706879d68fc9",
   "metadata": {
    "deletable": false,
    "editable": false
   },
   "source": [
    "**3:** Determine which site in the Dar es Salaam collection has the most sensor readings (of any type, not just PM2.5 readings). You submission `readings_per_site` should be a list of dictionaries that follows this format:\n",
    "\n",
    "```\n",
    "[{'_id': 6, 'count': 70360}, {'_id': 29, 'count': 131852}]\n",
    "```\n",
    "\n",
    "Note that the values here ☝️ are from the Nairobi collection, so your values will look different. "
   ]
  },
  {
   "cell_type": "code",
   "execution_count": null,
   "id": "c2034e54-13cf-4984-a3af-0d76452b81ee",
   "metadata": {},
   "outputs": [],
   "source": [
    "[{'_id': site, 'count': dar.count_documents({'metadata.site':site})} for site in sites]"
   ]
  },
  {
   "cell_type": "code",
   "execution_count": null,
   "id": "805e41eb-5a6d-4acd-a058-dba6f45e681a",
   "metadata": {
    "deletable": false
   },
   "outputs": [],
   "source": [
    "result = dar.aggregate(\n",
    "    [\n",
    "        {\n",
    "            '$group':{\n",
    "            '_id':'$metadata.site',\n",
    "            'count':\n",
    "                {\n",
    "                '$count':{}\n",
    "                }\n",
    "            }\n",
    "        }\n",
    "    ]\n",
    ")\n",
    "\n",
    "readings_per_site = list(result)\n",
    "readings_per_site"
   ]
  },
  {
   "cell_type": "markdown",
   "id": "acc9d59d-7c70-4237-9b7f-b3a32cbec84d",
   "metadata": {
    "deletable": false,
    "editable": false
   },
   "source": [
    "## Import"
   ]
  },
  {
   "cell_type": "markdown",
   "id": "e93b82b8-d28d-4832-ac2f-1f6132c97ea6",
   "metadata": {
    "deletable": false,
    "editable": false
   },
   "source": [
    "**4:** (5 points) Create a `wrangle` function that will extract the PM2.5 readings from the site that has the most total readings in the Dar es Salaam collection. Your function should do the following steps:\n",
    "\n",
    "1. Localize reading time stamps to the timezone for `\"Africa/Dar_es_Salaam\"`.\n",
    "2. Remove all outlier PM2.5 readings that are above 100. \n",
    "3. Resample the data to provide the mean PM2.5 reading for each hour.\n",
    "4. Impute any missing values using the forward-will method. \n",
    "5. Return a Series `y`. "
   ]
  },
  {
   "cell_type": "code",
   "execution_count": null,
   "id": "3d074a70-cbe2-48f6-8108-69ccc88bd82a",
   "metadata": {
    "deletable": false
   },
   "outputs": [],
   "source": [
    "def wrangle(collection):\n",
    "    result = collection.find(\n",
    "            {'metadata.site': 11, 'metadata.measurement':'P2'},\n",
    "            projection={'_id':0, 'P2':1, 'timestamp':1}\n",
    "    )\n",
    "    \n",
    "    df = pd.DataFrame(data=result).set_index('timestamp')\n",
    "    df.index = df.index.tz_localize(\"UTC\").tz_convert('Africa/Dar_es_Salaam')\n",
    "    df.drop(df[df['P2'] > 100].index, inplace=True)\n",
    "    y = df['P2'].resample('1H').mean().fillna(method='ffill')\n",
    "    return y"
   ]
  },
  {
   "cell_type": "markdown",
   "id": "873a97b1-6217-4c4d-ac6c-05db61d37d46",
   "metadata": {
    "deletable": false,
    "editable": false
   },
   "source": [
    "Use your `wrangle` function to query the `dar` collection and return your cleaned results."
   ]
  },
  {
   "cell_type": "code",
   "execution_count": null,
   "id": "1036624c-e1a0-4529-98bc-2c4be1bb4825",
   "metadata": {
    "deletable": false
   },
   "outputs": [],
   "source": [
    "y = wrangle(dar)\n",
    "y.head()"
   ]
  },
  {
   "cell_type": "markdown",
   "id": "3e1d2bd7-87d2-4348-b571-0c23ba73d36c",
   "metadata": {
    "deletable": false,
    "editable": false
   },
   "source": [
    "## Explore Some More"
   ]
  },
  {
   "cell_type": "markdown",
   "id": "017b42ee-0987-419e-ae25-e0d506f3a793",
   "metadata": {
    "deletable": false,
    "editable": false
   },
   "source": [
    "**5:** Create a time series plot of the readings in `y`. Label your x-axis `\"Date\"` and your y-axis `\"PM2.5 Level\"`. Use the title `\"Dar es Salaam PM2.5 Levels\"`."
   ]
  },
  {
   "cell_type": "code",
   "execution_count": null,
   "id": "ae7283e6-ad67-4d6f-b169-785082f5eb86",
   "metadata": {
    "deletable": false
   },
   "outputs": [],
   "source": [
    "fig, ax = plt.subplots(figsize=(15, 6))\n",
    "\n",
    "y.plot()\n",
    "\n",
    "plt.xlabel('Date')\n",
    "plt.ylabel('PM2.5 Level')\n",
    "plt.title('Dar es Salaam PM2.5 Levels')"
   ]
  },
  {
   "cell_type": "markdown",
   "id": "444f2a1a-d764-4eec-a183-8c5c52623828",
   "metadata": {
    "deletable": false,
    "editable": false
   },
   "source": [
    "**6:** Plot the rolling average of the readings in `y`. Use a window size of `168` (the number of hours in a week). Label your x-axis `\"Date\"` and your y-axis `\"PM2.5 Level\"`. Use the title `\"Dar es Salaam PM2.5 Levels, 7-Day Rolling Average\"`."
   ]
  },
  {
   "cell_type": "code",
   "execution_count": null,
   "id": "13dc5d5d-bddc-4681-a1af-17b19d41e4fd",
   "metadata": {
    "deletable": false
   },
   "outputs": [],
   "source": [
    "fig, ax = plt.subplots(figsize=(15, 6))\n",
    "\n",
    "rolling_window = y.rolling(168).mean()\n",
    "rolling_window.plot()\n",
    "plt.xlabel('Date')\n",
    "plt.ylabel('PM2.5 Level')\n",
    "plt.title('Dar es Salaam PM2.5 Levels, 7-Day Rolling Average')"
   ]
  },
  {
   "cell_type": "markdown",
   "id": "c8845846-aa0f-445e-a24e-349e332993db",
   "metadata": {
    "deletable": false,
    "editable": false
   },
   "source": [
    "**7:** Create an ACF plot for the data in `y`. Be sure to label the x-axis as `\"Lag [hours]\"` and the y-axis as `\"Correlation Coefficient\"`. Use the title `\"Dar es Salaam PM2.5 Readings, ACF\"`."
   ]
  },
  {
   "cell_type": "code",
   "execution_count": null,
   "id": "2819b7f1-b7a6-41cc-8b2b-18d334443265",
   "metadata": {
    "deletable": false
   },
   "outputs": [],
   "source": [
    "fig, ax = plt.subplots(figsize=(15, 6))\n",
    "\n",
    "plot_acf(y, ax=ax)\n",
    "plt.xlabel('Lag [hours]')\n",
    "plt.ylabel('Correlation Coefficient')\n",
    "plt.title('Dar es Salaam PM2.5 Readings, ACF')"
   ]
  },
  {
   "cell_type": "markdown",
   "id": "18e5db3e-6768-44ed-b537-b4edddc6ceb9",
   "metadata": {
    "deletable": false,
    "editable": false
   },
   "source": [
    "**8:** Create an PACF plot for the data in `y`. Be sure to label the x-axis as `\"Lag [hours]\"` and the y-axis as `\"Correlation Coefficient\"`. Use the title `\"Dar es Salaam PM2.5 Readings, PACF\"`."
   ]
  },
  {
   "cell_type": "code",
   "execution_count": null,
   "id": "5cdf3b91-d56b-445a-b5bc-84b4426be501",
   "metadata": {
    "deletable": false
   },
   "outputs": [],
   "source": [
    "fig, ax = plt.subplots(figsize=(15, 6))\n",
    "\n",
    "plot_pacf(y, ax=ax)\n",
    "plt.xlabel('Lag [hours]')\n",
    "plt.ylabel('Correlation Coefficient')\n",
    "plt.title('Dar es Salaam PM2.5 Readings, PACF')"
   ]
  },
  {
   "cell_type": "markdown",
   "id": "c20b2822-0f54-40fc-8e27-7a4af876727a",
   "metadata": {
    "deletable": false,
    "editable": false
   },
   "source": [
    "## Split"
   ]
  },
  {
   "cell_type": "markdown",
   "id": "5f52fc17-b55f-48a4-b029-bfbd9180dde6",
   "metadata": {
    "deletable": false,
    "editable": false
   },
   "source": [
    "**9:** Split `y` into training and test sets. The first 90% of the data should be in your training set. The remaining 10% should be in the test set."
   ]
  },
  {
   "cell_type": "code",
   "execution_count": null,
   "id": "fce78c3f-6c47-4115-a223-3aba130ef30e",
   "metadata": {
    "deletable": false
   },
   "outputs": [],
   "source": [
    "cutoff_test = int(0.9 * len(y))\n",
    "y_train = y[:cutoff_test]\n",
    "y_test = y[cutoff_test:]\n",
    "print(\"y_train shape:\", y_train.shape)\n",
    "print(\"y_test shape:\", y_test.shape)"
   ]
  },
  {
   "cell_type": "markdown",
   "id": "fbe6b15f-d89e-4a8e-a313-72878f459a99",
   "metadata": {
    "deletable": false,
    "editable": false
   },
   "source": [
    "# Build Model"
   ]
  },
  {
   "cell_type": "markdown",
   "id": "3a9c3f11-d663-4788-99d8-84bcf8cbf65d",
   "metadata": {
    "deletable": false,
    "editable": false
   },
   "source": [
    "## Baseline"
   ]
  },
  {
   "cell_type": "markdown",
   "id": "15ed1868-b79b-4c3a-8d5f-5c84c369f3c9",
   "metadata": {
    "deletable": false,
    "editable": false
   },
   "source": [
    "**10:** Establish the baseline mean absolute error for your model."
   ]
  },
  {
   "cell_type": "code",
   "execution_count": null,
   "id": "0b1782b1-02ec-4d32-a2d7-f01d31adef2f",
   "metadata": {
    "deletable": false
   },
   "outputs": [],
   "source": [
    "y_train_mean = y_train.mean()\n",
    "y_pred_baseline = len(y_train) * [y_train_mean]\n",
    "mae_baseline = mean_absolute_error(y_train, y_pred_baseline)\n",
    "\n",
    "print(\"Mean P2 Reading:\", y_train_mean)\n",
    "print(\"Baseline MAE:\", mae_baseline)"
   ]
  },
  {
   "cell_type": "markdown",
   "id": "f62c9fbd-d620-4a98-a9aa-bffab485faf0",
   "metadata": {
    "deletable": false,
    "editable": false
   },
   "source": [
    "## Iterate"
   ]
  },
  {
   "cell_type": "markdown",
   "id": "fe5bddd3-86b4-431b-b67b-b6b35223a831",
   "metadata": {
    "deletable": false,
    "editable": false
   },
   "source": [
    "**11:** You're going to use an AR model to predict PM2.5 readings, but which hyperparameter settings will give you the best performance? Use a `for` loop to train your AR model on using settings for `p` from 1 to 30. Each time you train a new model, calculate its mean absolute error and append the result to the list `maes`. Then store your results in the Series `mae_series`."
   ]
  },
  {
   "cell_type": "code",
   "execution_count": null,
   "id": "e9b3a2c4-3cbe-45fd-8a59-a4b475d732df",
   "metadata": {
    "deletable": false
   },
   "outputs": [],
   "source": [
    "p_params = range(1, 31)\n",
    "maes = []\n",
    "for p in p_params:\n",
    "    model = AutoReg(y_train, p).fit()\n",
    "    y_pred = model.predict().dropna()\n",
    "    mae = mean_absolute_error(y_pred, y_train[y_pred.index])\n",
    "    maes.append(mae)\n",
    "    \n",
    "mae_series = pd.Series(maes, name=\"mae\", index=p_params)\n",
    "mae_series.head()"
   ]
  },
  {
   "cell_type": "markdown",
   "id": "3bed32bc-03f1-459b-ab4a-3427ee9a139c",
   "metadata": {
    "deletable": false,
    "editable": false
   },
   "source": [
    "**12:** Look through the results in `mae_series` and determine what value for `p` provides the best performance. Then build and train `final_model` using the best hyperparameter value.\n",
    "\n",
    "**Note:** Make sure that you build and train your model in one line of code, and that the data type of `best_model` is `statsmodels.tsa.ar_model.AutoRegResultsWrapper`. "
   ]
  },
  {
   "cell_type": "code",
   "execution_count": null,
   "id": "83c92e43-b311-4329-8b32-cd0389e81f9f",
   "metadata": {
    "deletable": false
   },
   "outputs": [],
   "source": [
    "best_p = mae_series.idxmin()\n",
    "best_model = AutoReg(y_train, best_p).fit()"
   ]
  },
  {
   "cell_type": "markdown",
   "id": "6ba53db5-0b15-4adc-b258-eec2df030401",
   "metadata": {
    "deletable": false,
    "editable": false
   },
   "source": [
    "**13:** Calculate the training residuals for `best_model` and assign the result to `y_train_resid`. **Note** that your name of your Series should be `\"residuals\"`."
   ]
  },
  {
   "cell_type": "code",
   "execution_count": null,
   "id": "8f5d1ae9-9fae-4253-b932-bf06911d51a8",
   "metadata": {
    "deletable": false
   },
   "outputs": [],
   "source": [
    "y_train_resid = y_train - best_model.predict()\n",
    "y_train_resid.name = \"residuals\"\n",
    "y_train_resid.head()"
   ]
  },
  {
   "cell_type": "markdown",
   "id": "d916c106-af20-43af-994f-381b211bbcd8",
   "metadata": {
    "deletable": false,
    "editable": false
   },
   "source": [
    "**14:** Create a histogram of `y_train_resid`. Be sure to label the x-axis as `\"Residuals\"` and the y-axis as `\"y_train_resid\"`. Use the title `\"Best Model, Training Residuals\"`."
   ]
  },
  {
   "cell_type": "code",
   "execution_count": null,
   "id": "d3f6986e-e7c0-4909-b72b-6fc72cfd1bcb",
   "metadata": {
    "deletable": false
   },
   "outputs": [],
   "source": [
    "# Plot histogram of residuals\n",
    "y_train_resid.hist()\n",
    "\n",
    "plt.xlabel('Residuals')\n",
    "plt.ylabel('y_train_resid')\n",
    "plt.title('Best Model, Training Residuals')"
   ]
  },
  {
   "cell_type": "markdown",
   "id": "62931901-b20f-4a40-9d0a-fda6e4f64c69",
   "metadata": {
    "deletable": false,
    "editable": false
   },
   "source": [
    "**15:** Create an ACF plot for `y_train_resid`. Be sure to label the x-axis as `\"Lag [hours]\"` and y-axis as `\"Correlation Coefficient\"`. Use the title `\"Dar es Salaam, Training Residuals ACF\"`."
   ]
  },
  {
   "cell_type": "code",
   "execution_count": null,
   "id": "893a226f-dd45-454e-8dc3-f310f2239c05",
   "metadata": {
    "deletable": false
   },
   "outputs": [],
   "source": [
    "fig, ax = plt.subplots(figsize=(15, 6))\n",
    "\n",
    "plot_acf(y_train_resid.dropna(), ax=ax)\n",
    "plt.xlabel('Lag [hours]')\n",
    "plt.ylabel('Correlation Coefficient')\n",
    "plt.title('Dar es Salaam, Training Residuals ACF')"
   ]
  },
  {
   "cell_type": "markdown",
   "id": "ae216a3c-092d-4c78-aec2-a09d3d6ae04d",
   "metadata": {
    "deletable": false,
    "editable": false
   },
   "source": [
    "## Evaluate"
   ]
  },
  {
   "cell_type": "markdown",
   "id": "1a3e3aa7-f91b-4f9a-b431-cc9ea712ae8c",
   "metadata": {
    "deletable": false,
    "editable": false
   },
   "source": [
    "**16:** Perform walk-forward validation for your model for the entire test set `y_test`. Store your model's predictions in the Series `y_pred_wfv`. Make sure the name of your Series is `\"prediction\"` and the name of your Series index is `\"timestamp\"`."
   ]
  },
  {
   "cell_type": "code",
   "execution_count": null,
   "id": "fe8d14e6-3d52-4963-8889-2142ee9bfb39",
   "metadata": {
    "deletable": false
   },
   "outputs": [],
   "source": [
    "y_pred_wfv = pd.Series()\n",
    "history = y_train.copy()\n",
    "\n",
    "for i in range(len(y_test)):\n",
    "    model = AutoReg(history, 21).fit()\n",
    "    next_pred = model.forecast()\n",
    "    \n",
    "    y_pred_wfv = y_pred_wfv.append(next_pred)\n",
    "    history = history.append(y_test[next_pred.index])\n",
    "\n",
    "y_pred_wfv.name = \"prediction\"\n",
    "y_pred_wfv.index.name = \"timestamp\"\n",
    "y_pred_wfv.head()"
   ]
  },
  {
   "cell_type": "markdown",
   "id": "8ff0c77d-faa7-4389-be15-5625c8961eaf",
   "metadata": {
    "deletable": false,
    "editable": false
   },
   "source": [
    "**17:** Submit your walk-forward validation predictions to the grader to see test mean absolute error for your model."
   ]
  },
  {
   "cell_type": "markdown",
   "id": "1747af25-64f8-4432-8865-4a0b92f812dc",
   "metadata": {
    "deletable": false,
    "editable": false
   },
   "source": [
    "# Communicate Results"
   ]
  },
  {
   "cell_type": "markdown",
   "id": "2c87834c-760a-411d-9206-98f12c92d0c4",
   "metadata": {
    "deletable": false,
    "editable": false
   },
   "source": [
    "**18:** Put the values for `y_test` and `y_pred_wfv` into the DataFrame `df_pred_test` (don't forget the index). Then plot `df_pred_test` using plotly express. Be sure to label the x-axis as `\"Date\"` and the y-axis as `\"PM2.5 Level\"`. Use the title `\"Dar es Salaam, WFV Predictions\"`."
   ]
  },
  {
   "cell_type": "code",
   "execution_count": null,
   "id": "ab959d9e-b8bd-4dbd-adab-6d8816a1b64f",
   "metadata": {
    "deletable": false
   },
   "outputs": [],
   "source": [
    "df_pred_test = pd.DataFrame(\n",
    "    {'y_test': y_test,\n",
    "     'y_pred': y_pred_wfv}, index=y_test.index\n",
    ")\n",
    "\n",
    "fig = px.line(df_pred_test, labels={\"value\": \"P2\"})\n",
    "fig.update_layout(\n",
    "    title=\"Dar es Salaam, WFV Predictions\",\n",
    "    xaxis_title=\"Date\",\n",
    "    yaxis_title=\"PM2.5 Level\",\n",
    ")\n",
    "\n",
    "fig.show()"
   ]
  }
 ],
 "metadata": {
  "kernelspec": {
   "display_name": "Python 3 (ipykernel)",
   "language": "python",
   "name": "python3"
  },
  "language_info": {
   "codemirror_mode": {
    "name": "ipython",
    "version": 3
   },
   "file_extension": ".py",
   "mimetype": "text/x-python",
   "name": "python",
   "nbconvert_exporter": "python",
   "pygments_lexer": "ipython3",
   "version": "3.7.16"
  },
  "toc-autonumbering": false
 },
 "nbformat": 4,
 "nbformat_minor": 5
}
